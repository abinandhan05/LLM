{
  "metadata": {
    "kernelspec": {
      "language": "python",
      "display_name": "Python 3",
      "name": "python3"
    },
    "language_info": {
      "name": "python",
      "version": "3.10.12",
      "mimetype": "text/x-python",
      "codemirror_mode": {
        "name": "ipython",
        "version": 3
      },
      "pygments_lexer": "ipython3",
      "nbconvert_exporter": "python",
      "file_extension": ".py"
    },
    "colab": {
      "provenance": []
    }
  },
  "nbformat_minor": 0,
  "nbformat": 4,
  "cells": [
    {
      "cell_type": "markdown",
      "source": [
        "**Importing Necessary Libraries**"
      ],
      "metadata": {
        "id": "xMtYX7tLq3DB"
      }
    },
    {
      "cell_type": "code",
      "source": [
        "import numpy as np\n",
        "import pandas as pd\n",
        "from colorama import Fore, Back, Style\n",
        "from datasets import Dataset\n",
        "from transformers import AutoTokenizer, EarlyStoppingCallback\n",
        "from transformers import AutoModelForMultipleChoice, TrainingArguments, Trainer\n",
        "import gc\n",
        "\n",
        "from dataclasses import dataclass\n",
        "from transformers.tokenization_utils_base import PreTrainedTokenizerBase, PaddingStrategy\n",
        "from typing import Optional, Union\n",
        "import torch\n",
        "from sklearn.model_selection import KFold"
      ],
      "metadata": {
        "_uuid": "93dde26b-2f18-452e-8bda-97b62576d9fc",
        "_cell_guid": "aedd5aa8-1393-4402-a815-b6fca444493c",
        "jupyter": {
          "outputs_hidden": false
        },
        "execution": {
          "iopub.status.busy": "2023-10-30T18:01:01.046161Z",
          "iopub.execute_input": "2023-10-30T18:01:01.046877Z",
          "iopub.status.idle": "2023-10-30T18:01:13.631688Z",
          "shell.execute_reply.started": "2023-10-30T18:01:01.046845Z",
          "shell.execute_reply": "2023-10-30T18:01:13.630906Z"
        },
        "trusted": true,
        "id": "8QILoIe-qXWe",
        "outputId": "f2a7a852-21c6-446d-88a5-ad75b2b86398"
      },
      "execution_count": null,
      "outputs": [
        {
          "name": "stderr",
          "text": "/opt/conda/lib/python3.10/site-packages/scipy/__init__.py:146: UserWarning: A NumPy version >=1.16.5 and <1.23.0 is required for this version of SciPy (detected version 1.23.5\n  warnings.warn(f\"A NumPy version >={np_minversion} and <{np_maxversion}\"\n",
          "output_type": "stream"
        }
      ]
    },
    {
      "cell_type": "markdown",
      "source": [
        "**LOAD DATA**"
      ],
      "metadata": {
        "id": "5EcaNEx0rAiA"
      }
    },
    {
      "cell_type": "code",
      "source": [
        "# Combining multiple datasets into a single DataFrame for training.\n",
        "train_df = pd.concat([\n",
        "    pd.read_csv('/content/drive/MyDrive/kaggle-llm-science-exam/train.csv'),\n",
        "    pd.read_csv('/content/drive/MyDrive/kaggle-llm-science-exam/6000_train_examples.csv'),\n",
        "    pd.read_csv('/content/drive/MyDrive/kaggle-llm-science-exam/extra_train_set.csv')\n",
        "])\n",
        "\n",
        "# Remove unnecessary 'id' column and reset index.\n",
        "train_df.drop('id', axis=1, inplace=True)\n",
        "train_df.reset_index(drop=True, inplace=True)\n",
        "\n",
        "train_df.head()"
      ],
      "metadata": {
        "_uuid": "cc741784-4b34-4640-9be0-937c3f949304",
        "_cell_guid": "152ecd38-633e-403b-81d3-a8f880081289",
        "jupyter": {
          "outputs_hidden": false
        },
        "execution": {
          "iopub.status.busy": "2023-10-30T18:01:13.633881Z",
          "iopub.execute_input": "2023-10-30T18:01:13.634625Z",
          "iopub.status.idle": "2023-10-30T18:01:13.814381Z",
          "shell.execute_reply.started": "2023-10-30T18:01:13.634588Z",
          "shell.execute_reply": "2023-10-30T18:01:13.813494Z"
        },
        "trusted": true,
        "id": "QYDOv5s-qXWf",
        "outputId": "89be8280-7c8c-4557-af89-609170d2e477"
      },
      "execution_count": null,
      "outputs": [
        {
          "execution_count": 3,
          "output_type": "execute_result",
          "data": {
            "text/plain": "                                              prompt  \\\n0  Which of the following statements accurately d...   \n1  Which of the following is an accurate definiti...   \n2  Which of the following statements accurately d...   \n3  What is the significance of regularization in ...   \n4  Which of the following statements accurately d...   \n\n                                                   A  \\\n0  MOND is a theory that reduces the observed mis...   \n1  Dynamic scaling refers to the evolution of sel...   \n2  The triskeles symbol was reconstructed as a fe...   \n3  Regularizing the mass-energy of an electron wi...   \n4  The angular spacing of features in the diffrac...   \n\n                                                   B  \\\n0  MOND is a theory that increases the discrepanc...   \n1  Dynamic scaling refers to the non-evolution of...   \n2  The triskeles symbol is a representation of th...   \n3  Regularizing the mass-energy of an electron wi...   \n4  The angular spacing of features in the diffrac...   \n\n                                                   C  \\\n0  MOND is a theory that explains the missing bar...   \n1  Dynamic scaling refers to the evolution of sel...   \n2  The triskeles symbol is a representation of a ...   \n3  Regularizing the mass-energy of an electron wi...   \n4  The angular spacing of features in the diffrac...   \n\n                                                   D  \\\n0  MOND is a theory that reduces the discrepancy ...   \n1  Dynamic scaling refers to the non-evolution of...   \n2  The triskeles symbol represents three interloc...   \n3  Regularizing the mass-energy of an electron wi...   \n4  The angular spacing of features in the diffrac...   \n\n                                                   E answer  \n0  MOND is a theory that eliminates the observed ...      D  \n1  Dynamic scaling refers to the evolution of sel...      A  \n2  The triskeles symbol is a representation of th...      A  \n3  Regularizing the mass-energy of an electron wi...      C  \n4  The angular spacing of features in the diffrac...      D  ",
            "text/html": "<div>\n<style scoped>\n    .dataframe tbody tr th:only-of-type {\n        vertical-align: middle;\n    }\n\n    .dataframe tbody tr th {\n        vertical-align: top;\n    }\n\n    .dataframe thead th {\n        text-align: right;\n    }\n</style>\n<table border=\"1\" class=\"dataframe\">\n  <thead>\n    <tr style=\"text-align: right;\">\n      <th></th>\n      <th>prompt</th>\n      <th>A</th>\n      <th>B</th>\n      <th>C</th>\n      <th>D</th>\n      <th>E</th>\n      <th>answer</th>\n    </tr>\n  </thead>\n  <tbody>\n    <tr>\n      <th>0</th>\n      <td>Which of the following statements accurately d...</td>\n      <td>MOND is a theory that reduces the observed mis...</td>\n      <td>MOND is a theory that increases the discrepanc...</td>\n      <td>MOND is a theory that explains the missing bar...</td>\n      <td>MOND is a theory that reduces the discrepancy ...</td>\n      <td>MOND is a theory that eliminates the observed ...</td>\n      <td>D</td>\n    </tr>\n    <tr>\n      <th>1</th>\n      <td>Which of the following is an accurate definiti...</td>\n      <td>Dynamic scaling refers to the evolution of sel...</td>\n      <td>Dynamic scaling refers to the non-evolution of...</td>\n      <td>Dynamic scaling refers to the evolution of sel...</td>\n      <td>Dynamic scaling refers to the non-evolution of...</td>\n      <td>Dynamic scaling refers to the evolution of sel...</td>\n      <td>A</td>\n    </tr>\n    <tr>\n      <th>2</th>\n      <td>Which of the following statements accurately d...</td>\n      <td>The triskeles symbol was reconstructed as a fe...</td>\n      <td>The triskeles symbol is a representation of th...</td>\n      <td>The triskeles symbol is a representation of a ...</td>\n      <td>The triskeles symbol represents three interloc...</td>\n      <td>The triskeles symbol is a representation of th...</td>\n      <td>A</td>\n    </tr>\n    <tr>\n      <th>3</th>\n      <td>What is the significance of regularization in ...</td>\n      <td>Regularizing the mass-energy of an electron wi...</td>\n      <td>Regularizing the mass-energy of an electron wi...</td>\n      <td>Regularizing the mass-energy of an electron wi...</td>\n      <td>Regularizing the mass-energy of an electron wi...</td>\n      <td>Regularizing the mass-energy of an electron wi...</td>\n      <td>C</td>\n    </tr>\n    <tr>\n      <th>4</th>\n      <td>Which of the following statements accurately d...</td>\n      <td>The angular spacing of features in the diffrac...</td>\n      <td>The angular spacing of features in the diffrac...</td>\n      <td>The angular spacing of features in the diffrac...</td>\n      <td>The angular spacing of features in the diffrac...</td>\n      <td>The angular spacing of features in the diffrac...</td>\n      <td>D</td>\n    </tr>\n  </tbody>\n</table>\n</div>"
          },
          "metadata": {}
        }
      ]
    },
    {
      "cell_type": "code",
      "source": [
        "train_df = train_df.iloc[:1000]\n",
        "train_df"
      ],
      "metadata": {
        "_uuid": "32a078a0-1f5d-4e19-a523-2268a1c70a94",
        "_cell_guid": "776639e5-1078-477e-b204-95f307eb08c2",
        "jupyter": {
          "outputs_hidden": false
        },
        "execution": {
          "iopub.status.busy": "2023-10-30T18:01:13.815479Z",
          "iopub.execute_input": "2023-10-30T18:01:13.815743Z",
          "iopub.status.idle": "2023-10-30T18:01:13.831376Z",
          "shell.execute_reply.started": "2023-10-30T18:01:13.815721Z",
          "shell.execute_reply": "2023-10-30T18:01:13.830456Z"
        },
        "trusted": true,
        "id": "atVtV-5CqXWf",
        "outputId": "7f3362e8-c955-4448-930c-4b1f7685f2c7"
      },
      "execution_count": null,
      "outputs": [
        {
          "execution_count": 4,
          "output_type": "execute_result",
          "data": {
            "text/plain": "                                                prompt  \\\n0    Which of the following statements accurately d...   \n1    Which of the following is an accurate definiti...   \n2    Which of the following statements accurately d...   \n3    What is the significance of regularization in ...   \n4    Which of the following statements accurately d...   \n..                                                 ...   \n995            What is Ferenc András Kalmár known for?   \n996  What literary prize was Ákoz Kertész awarded i...   \n997  What role did Daniel George Belisle assume dur...   \n998    What is Gilbert Alfred Franklin best known for?   \n999  What is Mercedes Brignone's connection to the ...   \n\n                                                     A  \\\n0    MOND is a theory that reduces the observed mis...   \n1    Dynamic scaling refers to the evolution of sel...   \n2    The triskeles symbol was reconstructed as a fe...   \n3    Regularizing the mass-energy of an electron wi...   \n4    The angular spacing of features in the diffrac...   \n..                                                 ...   \n995  Ferenc András Kalmár is known for his contribu...   \n996                                  The Kossuth Prize   \n997  Daniel George Belisle was a successful NHL pla...   \n998  Gilbert Alfred Franklin is best known for his ...   \n999  Mercedes Brignone played supporting roles in l...   \n\n                                                     B  \\\n0    MOND is a theory that increases the discrepanc...   \n1    Dynamic scaling refers to the non-evolution of...   \n2    The triskeles symbol is a representation of th...   \n3    Regularizing the mass-energy of an electron wi...   \n4    The angular spacing of features in the diffrac...   \n..                                                 ...   \n995  Ferenc András Kalmár is known for his career a...   \n996                      The Nobel Prize in Literature   \n997  Daniel George Belisle was known for his philan...   \n998  Gilbert Alfred Franklin is best known for his ...   \n999  Mercedes Brignone was a Spanish-born Italian s...   \n\n                                                     C  \\\n0    MOND is a theory that explains the missing bar...   \n1    Dynamic scaling refers to the evolution of sel...   \n2    The triskeles symbol is a representation of a ...   \n3    Regularizing the mass-energy of an electron wi...   \n4    The angular spacing of features in the diffrac...   \n..                                                 ...   \n995  Ferenc András Kalmár is known for his involvem...   \n996                             The PEN/Faulkner Award   \n997  Daniel George Belisle was an influential figur...   \n998  Gilbert Alfred Franklin is best known for his ...   \n999  Mercedes Brignone was primarily known for her ...   \n\n                                                     D  \\\n0    MOND is a theory that reduces the discrepancy ...   \n1    Dynamic scaling refers to the non-evolution of...   \n2    The triskeles symbol represents three interloc...   \n3    Regularizing the mass-energy of an electron wi...   \n4    The angular spacing of features in the diffrac...   \n..                                                 ...   \n995  Ferenc András Kalmár is known for his research...   \n996                                   The Booker Prize   \n997  Daniel George Belisle primarily served as a co...   \n998  Gilbert Alfred Franklin is best known for his ...   \n999  Mercedes Brignone was best known for her leadi...   \n\n                                                     E answer  \n0    MOND is a theory that eliminates the observed ...      D  \n1    Dynamic scaling refers to the evolution of sel...      A  \n2    The triskeles symbol is a representation of th...      A  \n3    Regularizing the mass-energy of an electron wi...      C  \n4    The angular spacing of features in the diffrac...      D  \n..                                                 ...    ...  \n995  Ferenc András Kalmár is known for his innovati...      B  \n996                                 The Pulitzer Prize      A  \n997  Daniel George Belisle was a pioneer in ice hoc...      D  \n998  Gilbert Alfred Franklin is best known for his ...      A  \n999  Mercedes Brignone was the daughter of a famous...      E  \n\n[1000 rows x 7 columns]",
            "text/html": "<div>\n<style scoped>\n    .dataframe tbody tr th:only-of-type {\n        vertical-align: middle;\n    }\n\n    .dataframe tbody tr th {\n        vertical-align: top;\n    }\n\n    .dataframe thead th {\n        text-align: right;\n    }\n</style>\n<table border=\"1\" class=\"dataframe\">\n  <thead>\n    <tr style=\"text-align: right;\">\n      <th></th>\n      <th>prompt</th>\n      <th>A</th>\n      <th>B</th>\n      <th>C</th>\n      <th>D</th>\n      <th>E</th>\n      <th>answer</th>\n    </tr>\n  </thead>\n  <tbody>\n    <tr>\n      <th>0</th>\n      <td>Which of the following statements accurately d...</td>\n      <td>MOND is a theory that reduces the observed mis...</td>\n      <td>MOND is a theory that increases the discrepanc...</td>\n      <td>MOND is a theory that explains the missing bar...</td>\n      <td>MOND is a theory that reduces the discrepancy ...</td>\n      <td>MOND is a theory that eliminates the observed ...</td>\n      <td>D</td>\n    </tr>\n    <tr>\n      <th>1</th>\n      <td>Which of the following is an accurate definiti...</td>\n      <td>Dynamic scaling refers to the evolution of sel...</td>\n      <td>Dynamic scaling refers to the non-evolution of...</td>\n      <td>Dynamic scaling refers to the evolution of sel...</td>\n      <td>Dynamic scaling refers to the non-evolution of...</td>\n      <td>Dynamic scaling refers to the evolution of sel...</td>\n      <td>A</td>\n    </tr>\n    <tr>\n      <th>2</th>\n      <td>Which of the following statements accurately d...</td>\n      <td>The triskeles symbol was reconstructed as a fe...</td>\n      <td>The triskeles symbol is a representation of th...</td>\n      <td>The triskeles symbol is a representation of a ...</td>\n      <td>The triskeles symbol represents three interloc...</td>\n      <td>The triskeles symbol is a representation of th...</td>\n      <td>A</td>\n    </tr>\n    <tr>\n      <th>3</th>\n      <td>What is the significance of regularization in ...</td>\n      <td>Regularizing the mass-energy of an electron wi...</td>\n      <td>Regularizing the mass-energy of an electron wi...</td>\n      <td>Regularizing the mass-energy of an electron wi...</td>\n      <td>Regularizing the mass-energy of an electron wi...</td>\n      <td>Regularizing the mass-energy of an electron wi...</td>\n      <td>C</td>\n    </tr>\n    <tr>\n      <th>4</th>\n      <td>Which of the following statements accurately d...</td>\n      <td>The angular spacing of features in the diffrac...</td>\n      <td>The angular spacing of features in the diffrac...</td>\n      <td>The angular spacing of features in the diffrac...</td>\n      <td>The angular spacing of features in the diffrac...</td>\n      <td>The angular spacing of features in the diffrac...</td>\n      <td>D</td>\n    </tr>\n    <tr>\n      <th>...</th>\n      <td>...</td>\n      <td>...</td>\n      <td>...</td>\n      <td>...</td>\n      <td>...</td>\n      <td>...</td>\n      <td>...</td>\n    </tr>\n    <tr>\n      <th>995</th>\n      <td>What is Ferenc András Kalmár known for?</td>\n      <td>Ferenc András Kalmár is known for his contribu...</td>\n      <td>Ferenc András Kalmár is known for his career a...</td>\n      <td>Ferenc András Kalmár is known for his involvem...</td>\n      <td>Ferenc András Kalmár is known for his research...</td>\n      <td>Ferenc András Kalmár is known for his innovati...</td>\n      <td>B</td>\n    </tr>\n    <tr>\n      <th>996</th>\n      <td>What literary prize was Ákoz Kertész awarded i...</td>\n      <td>The Kossuth Prize</td>\n      <td>The Nobel Prize in Literature</td>\n      <td>The PEN/Faulkner Award</td>\n      <td>The Booker Prize</td>\n      <td>The Pulitzer Prize</td>\n      <td>A</td>\n    </tr>\n    <tr>\n      <th>997</th>\n      <td>What role did Daniel George Belisle assume dur...</td>\n      <td>Daniel George Belisle was a successful NHL pla...</td>\n      <td>Daniel George Belisle was known for his philan...</td>\n      <td>Daniel George Belisle was an influential figur...</td>\n      <td>Daniel George Belisle primarily served as a co...</td>\n      <td>Daniel George Belisle was a pioneer in ice hoc...</td>\n      <td>D</td>\n    </tr>\n    <tr>\n      <th>998</th>\n      <td>What is Gilbert Alfred Franklin best known for?</td>\n      <td>Gilbert Alfred Franklin is best known for his ...</td>\n      <td>Gilbert Alfred Franklin is best known for his ...</td>\n      <td>Gilbert Alfred Franklin is best known for his ...</td>\n      <td>Gilbert Alfred Franklin is best known for his ...</td>\n      <td>Gilbert Alfred Franklin is best known for his ...</td>\n      <td>A</td>\n    </tr>\n    <tr>\n      <th>999</th>\n      <td>What is Mercedes Brignone's connection to the ...</td>\n      <td>Mercedes Brignone played supporting roles in l...</td>\n      <td>Mercedes Brignone was a Spanish-born Italian s...</td>\n      <td>Mercedes Brignone was primarily known for her ...</td>\n      <td>Mercedes Brignone was best known for her leadi...</td>\n      <td>Mercedes Brignone was the daughter of a famous...</td>\n      <td>E</td>\n    </tr>\n  </tbody>\n</table>\n<p>1000 rows × 7 columns</p>\n</div>"
          },
          "metadata": {}
        }
      ]
    },
    {
      "cell_type": "markdown",
      "source": [
        "LOADING PRE-TRAINED MODEL"
      ],
      "metadata": {
        "id": "d1nBvdA7sLBg"
      }
    },
    {
      "cell_type": "code",
      "source": [
        "# Loading the pre-trained model and tokenizer\n",
        "deberta_v3_large = '/kaggle/input/deberta-v3-large-hf-weights'\n",
        "tokenizer = AutoTokenizer.from_pretrained(deberta_v3_large)"
      ],
      "metadata": {
        "_uuid": "1ddcb5f1-05bf-4a5b-aabc-c750c69fb2ff",
        "_cell_guid": "7b7c45f8-18ce-465a-8fa1-85f71bbd64f7",
        "jupyter": {
          "outputs_hidden": false
        },
        "execution": {
          "iopub.status.busy": "2023-10-30T18:01:13.832613Z",
          "iopub.execute_input": "2023-10-30T18:01:13.832936Z",
          "iopub.status.idle": "2023-10-30T18:01:14.996176Z",
          "shell.execute_reply.started": "2023-10-30T18:01:13.832903Z",
          "shell.execute_reply": "2023-10-30T18:01:14.995164Z"
        },
        "trusted": true,
        "id": "bIYNmJM1qXWg",
        "outputId": "1d3138e7-7240-41ef-e489-d8e7c4509231"
      },
      "execution_count": null,
      "outputs": [
        {
          "name": "stderr",
          "text": "Special tokens have been added in the vocabulary, make sure the associated word embeddings are fine-tuned or trained.\n/opt/conda/lib/python3.10/site-packages/transformers/convert_slow_tokenizer.py:473: UserWarning: The sentencepiece tokenizer that you are converting to a fast tokenizer uses the byte fallback option which is not implemented in the fast tokenizers. In practice this means that the fast version of the tokenizer can produce unknown tokens whereas the sentencepiece version would have converted these unknown tokens into a sequence of byte tokens matching the original piece of text.\n  warnings.warn(\nSpecial tokens have been added in the vocabulary, make sure the associated word embeddings are fine-tuned or trained.\n",
          "output_type": "stream"
        }
      ]
    },
    {
      "cell_type": "markdown",
      "source": [
        "**DATA PREPROCESSING**"
      ],
      "metadata": {
        "id": "rb-BmoHmrE4Q"
      }
    },
    {
      "cell_type": "code",
      "source": [
        "# We'll create a dictionary to convert option names (A, B, C, D, E) into indices and back again\n",
        "options = 'ABCDE'\n",
        "indices = list(range(5))\n",
        "\n",
        "option_to_index = {option: index for option, index in zip(options, indices)}\n",
        "index_to_option = {index: option for option, index in zip(options, indices)}\n",
        "\n",
        "\n",
        "# Define a preprocessing function that prepares the data for model input.\n",
        "def preprocess(example):\n",
        "    # The AutoModelForMultipleChoice class expects a set of question/answer pairs\n",
        "    # so we'll copy our question 5 times before tokenizing\n",
        "    first_sentence = [example['prompt']] * 5\n",
        "    second_sentence = [example[option] for option in 'ABCDE']\n",
        "\n",
        "    # Our tokenizer will turn our text into token IDs BERT can understand\n",
        "    tokenized_example = tokenizer(first_sentence, second_sentence, truncation=True)\n",
        "    tokenized_example['label'] = option_to_index[example['answer']]\n",
        "\n",
        "    return tokenized_example"
      ],
      "metadata": {
        "_uuid": "1bed3ec9-abcb-497d-bd75-df71c37654d2",
        "_cell_guid": "1cb8143e-5b2f-48eb-8ff5-9728ffa21305",
        "jupyter": {
          "outputs_hidden": false
        },
        "execution": {
          "iopub.status.busy": "2023-10-30T18:01:14.998635Z",
          "iopub.execute_input": "2023-10-30T18:01:14.998935Z",
          "iopub.status.idle": "2023-10-30T18:01:15.005519Z",
          "shell.execute_reply.started": "2023-10-30T18:01:14.998909Z",
          "shell.execute_reply": "2023-10-30T18:01:15.004634Z"
        },
        "trusted": true,
        "id": "83_DSXlgqXWg"
      },
      "execution_count": null,
      "outputs": []
    },
    {
      "cell_type": "code",
      "source": [
        "print(index_to_option)"
      ],
      "metadata": {
        "_uuid": "6625d33d-374b-40a7-809e-b4ce7341d120",
        "_cell_guid": "9ee90006-7ec0-48f5-b151-ec7405f54267",
        "jupyter": {
          "outputs_hidden": false
        },
        "execution": {
          "iopub.status.busy": "2023-10-30T18:01:15.007183Z",
          "iopub.execute_input": "2023-10-30T18:01:15.007485Z",
          "iopub.status.idle": "2023-10-30T18:01:15.020556Z",
          "shell.execute_reply.started": "2023-10-30T18:01:15.007461Z",
          "shell.execute_reply": "2023-10-30T18:01:15.019679Z"
        },
        "trusted": true,
        "id": "rTibBWS0qXWg",
        "outputId": "46aeed56-0a66-4910-f12c-458f7e53e6a0"
      },
      "execution_count": null,
      "outputs": [
        {
          "name": "stdout",
          "text": "{0: 'A', 1: 'B', 2: 'C', 3: 'D', 4: 'E'}\n",
          "output_type": "stream"
        }
      ]
    },
    {
      "cell_type": "code",
      "source": [
        "# Following datacollator (adapted from https://huggingface.co/docs/transformers/tasks/multiple_choice)\n",
        "# will dynamically pad our questions at batch-time so we don't have to make every question the length\n",
        "# of our longest question.\n",
        "\n",
        "#  Define a data collator class for multiple choice tasks using @dataclass.\n",
        "@dataclass\n",
        "class DataCollatorForMultipleChoice:\n",
        "    tokenizer: PreTrainedTokenizerBase\n",
        "    padding: Union[bool, str, PaddingStrategy] = True\n",
        "    max_length: Optional[int] = None\n",
        "    pad_to_multiple_of: Optional[int] = None\n",
        "\n",
        "    def __call__(self, features):\n",
        "        # Determine the label name based on whether 'label' or 'labels' is present in the features.\n",
        "        label_name = \"label\" if 'label' in features[0].keys() else 'labels'\n",
        "\n",
        "        # Extract labels from features and compute batch size and the number of choices.\n",
        "        labels = [feature.pop(label_name) for feature in features]\n",
        "        batch_size = len(features)\n",
        "        num_choices = len(features[0]['input_ids'])\n",
        "\n",
        "        # Flatten the features to prepare for padding.\n",
        "        flattened_features = [\n",
        "            [{k: v[i] for k, v in feature.items()} for i in range(num_choices)] for feature in features\n",
        "        ]\n",
        "        flattened_features = sum(flattened_features, [])\n",
        "\n",
        "        # Pad the flattened features using the tokenizer.\n",
        "        batch = self.tokenizer.pad(\n",
        "            flattened_features,\n",
        "            padding=self.padding,\n",
        "            max_length=self.max_length,\n",
        "            pad_to_multiple_of=self.pad_to_multiple_of,\n",
        "            return_tensors='pt',\n",
        "        )\n",
        "\n",
        "         # Reshape the padded batch into the desired format.\n",
        "        batch = {k: v.view(batch_size, num_choices, -1) for k, v in batch.items()}\n",
        "\n",
        "        # Add the labels to the batch as a tensor.\n",
        "        batch['labels'] = torch.tensor(labels, dtype=torch.int64)\n",
        "\n",
        "        return batch"
      ],
      "metadata": {
        "_uuid": "a509fa62-31ee-4d70-8f04-4063ded2f1ee",
        "_cell_guid": "bcb4d5e8-bc23-4706-879f-0b4e346c6e0c",
        "jupyter": {
          "outputs_hidden": false
        },
        "execution": {
          "iopub.status.busy": "2023-10-30T18:01:15.023588Z",
          "iopub.execute_input": "2023-10-30T18:01:15.023861Z",
          "iopub.status.idle": "2023-10-30T18:01:15.034315Z",
          "shell.execute_reply.started": "2023-10-30T18:01:15.023837Z",
          "shell.execute_reply": "2023-10-30T18:01:15.033377Z"
        },
        "trusted": true,
        "id": "OxenPBUUqXWh"
      },
      "execution_count": null,
      "outputs": []
    },
    {
      "cell_type": "code",
      "source": [
        "# Evaluation metric: MAP@3\n",
        "\n",
        "K = 3\n",
        "\n",
        "def apk(y_i_true, y_i_pred):\n",
        "\n",
        "    assert(len(y_i_pred) <= K)\n",
        "    assert(len(np.unique(y_i_pred)) == len(y_i_pred))\n",
        "\n",
        "    sum_precision = 0.0\n",
        "    num_hits = 0.0\n",
        "\n",
        "    for i, p in enumerate(y_i_pred):\n",
        "        #checks whether it is valid prediction\n",
        "        if p in y_i_true:\n",
        "            num_hits += 1\n",
        "            precision = num_hits / (i + 1)\n",
        "            sum_precision += precision\n",
        "\n",
        "    return sum_precision / min(len(y_i_true), K)\n",
        "\n",
        "def mapk(y_true, y_pred):\n",
        "    return np.mean([apk(y_i_true, y_i_pred) for y_i_true, y_i_pred in zip(y_true, y_pred)])\n"
      ],
      "metadata": {
        "_uuid": "c252acb5-5e47-448e-9640-70df0b0fe827",
        "_cell_guid": "e57243a5-c023-47ac-8265-67b2ffb8c8f6",
        "jupyter": {
          "outputs_hidden": false
        },
        "execution": {
          "iopub.status.busy": "2023-10-30T18:01:15.035415Z",
          "iopub.execute_input": "2023-10-30T18:01:15.036179Z",
          "iopub.status.idle": "2023-10-30T18:01:15.048427Z",
          "shell.execute_reply.started": "2023-10-30T18:01:15.036153Z",
          "shell.execute_reply": "2023-10-30T18:01:15.047395Z"
        },
        "trusted": true,
        "id": "DGxX9iI-qXWh"
      },
      "execution_count": null,
      "outputs": []
    },
    {
      "cell_type": "code",
      "source": [
        "test_df = pd.read_csv('/content/drive/MyDrive/kaggle-llm-science-exam/test.csv')\n",
        "test_df['answer'] = 'A' # dummy answer that allows us to preprocess the test datataset using functionality that works for the train set\n",
        "\n",
        "# Create a tokenized test dataset from the Pandas DataFrame and apply the 'preprocess' function to prepare the data.\n",
        "test_ds = Dataset.from_pandas(test_df)\n",
        "tokenized_test_ds = test_ds.map(preprocess, batched=False, remove_columns=['prompt', 'A', 'B', 'C', 'D', 'E', 'answer'])"
      ],
      "metadata": {
        "_uuid": "136f965a-87c3-4550-b067-66c0085f2691",
        "_cell_guid": "a4c8e5f6-49fd-4ac6-86f8-7aad6a9da042",
        "jupyter": {
          "outputs_hidden": false
        },
        "execution": {
          "iopub.status.busy": "2023-10-30T18:01:15.049538Z",
          "iopub.execute_input": "2023-10-30T18:01:15.049789Z",
          "iopub.status.idle": "2023-10-30T18:01:15.371499Z",
          "shell.execute_reply.started": "2023-10-30T18:01:15.049767Z",
          "shell.execute_reply": "2023-10-30T18:01:15.370655Z"
        },
        "trusted": true,
        "colab": {
          "referenced_widgets": [
            "a9dbd21dc6a741ce90e033e7a9ce15fc"
          ]
        },
        "id": "6bSuOQedqXWh",
        "outputId": "51d2f1af-71db-489b-e5f1-d0f8b7401195"
      },
      "execution_count": null,
      "outputs": [
        {
          "output_type": "display_data",
          "data": {
            "text/plain": "  0%|          | 0/200 [00:00<?, ?ex/s]",
            "application/vnd.jupyter.widget-view+json": {
              "version_major": 2,
              "version_minor": 0,
              "model_id": "a9dbd21dc6a741ce90e033e7a9ce15fc"
            }
          },
          "metadata": {}
        },
        {
          "name": "stderr",
          "text": "Asking to truncate to max_length but no maximum length is provided and the model has no predefined maximum length. Default to no truncation.\n",
          "output_type": "stream"
        }
      ]
    },
    {
      "cell_type": "code",
      "source": [
        "# Set up K-Fold Cross-Validation\n",
        "\n",
        "final_dfs = pd.DataFrame()\n",
        "kf = KFold(n_splits=5, shuffle=True, random_state=71)\n",
        "cv_list = []\n",
        "\n",
        "for fold, (tr_idx, va_idx) in enumerate(kf.split(train_df)):\n",
        "    # Create train/validation subsets.\n",
        "    train_set = train_df.loc[tr_idx, ['prompt', 'A', 'B', 'C', 'D', 'E', 'answer']]\n",
        "    valid_set = train_df.loc[va_idx, ['prompt', 'A', 'B', 'C', 'D', 'E', 'answer']]\n",
        "\n",
        "    # Convert to Hugging Face's 'Dataset' format and preprocess.\n",
        "    train_set = Dataset.from_pandas(train_set)\n",
        "    tokenized_train = train_set.map(preprocess, remove_columns=['prompt', 'A', 'B', 'C', 'D', 'E', 'answer'])\n",
        "    valid_set = Dataset.from_pandas(valid_set)\n",
        "    tokenized_valid = valid_set.map(preprocess, remove_columns=['prompt', 'A', 'B', 'C', 'D', 'E', 'answer'])\n",
        "\n",
        "    valid_label = train_df.loc[va_idx, 'answer'].values\n",
        "\n",
        "    # Training arguments.\n",
        "    training_args = TrainingArguments(\n",
        "        output_dir='./',\n",
        "        overwrite_output_dir=True,\n",
        "        load_best_model_at_end=True,\n",
        "        save_total_limit=1,\n",
        "        evaluation_strategy=\"epoch\",\n",
        "        save_strategy=\"epoch\",\n",
        "        warmup_ratio=0.8,\n",
        "        learning_rate=1e-6,\n",
        "\n",
        "        per_device_train_batch_size=1,\n",
        "        per_device_eval_batch_size=2,\n",
        "\n",
        "        num_train_epochs=10,\n",
        "\n",
        "        report_to='none',\n",
        "        seed=422\n",
        "    )\n",
        "\n",
        "     # Initialize the model and trainer\n",
        "    model = AutoModelForMultipleChoice.from_pretrained(deberta_v3_large)\n",
        "    trainer = Trainer(\n",
        "        model=model,\n",
        "        args=training_args,\n",
        "        tokenizer=tokenizer,\n",
        "        data_collator=DataCollatorForMultipleChoice(tokenizer=tokenizer),\n",
        "        train_dataset=tokenized_train,\n",
        "        eval_dataset=tokenized_valid,\n",
        "        callbacks=[EarlyStoppingCallback(early_stopping_patience=2)]\n",
        "    )\n",
        "\n",
        "    # training\n",
        "    trainer.train()\n",
        "\n",
        "    # validation\n",
        "    valid_pred = trainer.predict(tokenized_valid).predictions\n",
        "    valid_pred_ids = np.argsort(-valid_pred, axis=1)\n",
        "    valid_pred_letters = np.array(list('ABCDE'))[valid_pred_ids][:, :3]\n",
        "\n",
        "    # Compute MAP@3 score\n",
        "    valid_map3 = mapk(valid_label, valid_pred_letters)\n",
        "\n",
        "    print(f\"{Fore.RED}{Style.BRIGHT}Fold {fold}: MAP@3 = {valid_map3:.5f}{Style.RESET_ALL}\")\n",
        "    cv_list.append(valid_map3)\n",
        "\n",
        "    test_predictions = trainer.predict(tokenized_test_ds).predictions\n",
        "    fold_predict_df = pd.DataFrame(test_predictions, columns=[f'{x}{fold}' for x in ['A','B','C','D','E']])\n",
        "    final_dfs = pd.concat([final_dfs, fold_predict_df], axis=1)\n",
        "\n",
        "    # Clean up to avoid running out of memory.\n",
        "    del model, trainer, tokenized_train, tokenized_valid, train_set, valid_set\n",
        "    gc.collect()"
      ],
      "metadata": {
        "_uuid": "0d44cd1f-be90-4c9b-af1b-803d6b4944e3",
        "_cell_guid": "f5c93ea3-6315-4a04-ad53-9d733d5b06e6",
        "jupyter": {
          "outputs_hidden": false
        },
        "execution": {
          "iopub.status.busy": "2023-10-30T18:01:15.374550Z",
          "iopub.execute_input": "2023-10-30T18:01:15.375123Z",
          "iopub.status.idle": "2023-10-30T20:51:07.061325Z",
          "shell.execute_reply.started": "2023-10-30T18:01:15.375095Z",
          "shell.execute_reply": "2023-10-30T20:51:07.060122Z"
        },
        "trusted": true,
        "colab": {
          "referenced_widgets": [
            "12d81ef22932475b8f84ccb00c278bd5",
            "94ea92e39b0940119c48041fe18a6160",
            "f1479ec63dcb4c67ab7691afa9e95123",
            "0a2b167a595a4fe3bfaead6465332fd9",
            "147f00228c6d482ca145910d8b195b6e",
            "bd447e668fb6433296333273a798a892",
            "ab95dd2e03f2402b81e68df9535a5c01",
            "333639400d704724bc4880c7e92e5302",
            "d47e353ef358474cb3ed4301fa450c01",
            "a41bf99465834f15b68df8a4975f3480"
          ]
        },
        "id": "8DPorbSQqXWh",
        "outputId": "89742fdc-0599-4564-f4b9-f48c75c4afc8"
      },
      "execution_count": null,
      "outputs": [
        {
          "output_type": "display_data",
          "data": {
            "text/plain": "  0%|          | 0/800 [00:00<?, ?ex/s]",
            "application/vnd.jupyter.widget-view+json": {
              "version_major": 2,
              "version_minor": 0,
              "model_id": "12d81ef22932475b8f84ccb00c278bd5"
            }
          },
          "metadata": {}
        },
        {
          "output_type": "display_data",
          "data": {
            "text/plain": "  0%|          | 0/200 [00:00<?, ?ex/s]",
            "application/vnd.jupyter.widget-view+json": {
              "version_major": 2,
              "version_minor": 0,
              "model_id": "94ea92e39b0940119c48041fe18a6160"
            }
          },
          "metadata": {}
        },
        {
          "name": "stderr",
          "text": "Some weights of DebertaV2ForMultipleChoice were not initialized from the model checkpoint at /kaggle/input/deberta-v3-large-hf-weights and are newly initialized: ['pooler.dense.weight', 'classifier.weight', 'pooler.dense.bias', 'classifier.bias']\nYou should probably TRAIN this model on a down-stream task to be able to use it for predictions and inference.\nYou're using a DebertaV2TokenizerFast tokenizer. Please note that with a fast tokenizer, using the `__call__` method is faster than using a method to encode the text followed by a call to the `pad` method to get a padded encoding.\n",
          "output_type": "stream"
        },
        {
          "output_type": "display_data",
          "data": {
            "text/plain": "<IPython.core.display.HTML object>",
            "text/html": "\n    <div>\n      \n      <progress value='8000' max='8000' style='width:300px; height:20px; vertical-align: middle;'></progress>\n      [8000/8000 35:17, Epoch 10/10]\n    </div>\n    <table border=\"1\" class=\"dataframe\">\n  <thead>\n <tr style=\"text-align: left;\">\n      <th>Epoch</th>\n      <th>Training Loss</th>\n      <th>Validation Loss</th>\n    </tr>\n  </thead>\n  <tbody>\n    <tr>\n      <td>1</td>\n      <td>1.611300</td>\n      <td>1.609449</td>\n    </tr>\n    <tr>\n      <td>2</td>\n      <td>1.620600</td>\n      <td>1.610504</td>\n    </tr>\n    <tr>\n      <td>3</td>\n      <td>1.616700</td>\n      <td>1.593135</td>\n    </tr>\n    <tr>\n      <td>4</td>\n      <td>1.608300</td>\n      <td>1.600539</td>\n    </tr>\n    <tr>\n      <td>5</td>\n      <td>1.574000</td>\n      <td>1.555467</td>\n    </tr>\n    <tr>\n      <td>6</td>\n      <td>1.533200</td>\n      <td>1.446381</td>\n    </tr>\n    <tr>\n      <td>7</td>\n      <td>1.374400</td>\n      <td>1.307687</td>\n    </tr>\n    <tr>\n      <td>8</td>\n      <td>1.204800</td>\n      <td>1.223704</td>\n    </tr>\n    <tr>\n      <td>9</td>\n      <td>0.924200</td>\n      <td>1.296124</td>\n    </tr>\n    <tr>\n      <td>10</td>\n      <td>0.782300</td>\n      <td>1.347473</td>\n    </tr>\n  </tbody>\n</table><p>"
          },
          "metadata": {}
        },
        {
          "output_type": "display_data",
          "data": {
            "text/plain": "<IPython.core.display.HTML object>",
            "text/html": ""
          },
          "metadata": {}
        },
        {
          "name": "stdout",
          "text": "\u001b[31m\u001b[1mFold 0: MAP@3 = 0.67833\u001b[0m\n",
          "output_type": "stream"
        },
        {
          "output_type": "display_data",
          "data": {
            "text/plain": "<IPython.core.display.HTML object>",
            "text/html": ""
          },
          "metadata": {}
        },
        {
          "output_type": "display_data",
          "data": {
            "text/plain": "  0%|          | 0/800 [00:00<?, ?ex/s]",
            "application/vnd.jupyter.widget-view+json": {
              "version_major": 2,
              "version_minor": 0,
              "model_id": "f1479ec63dcb4c67ab7691afa9e95123"
            }
          },
          "metadata": {}
        },
        {
          "output_type": "display_data",
          "data": {
            "text/plain": "  0%|          | 0/200 [00:00<?, ?ex/s]",
            "application/vnd.jupyter.widget-view+json": {
              "version_major": 2,
              "version_minor": 0,
              "model_id": "0a2b167a595a4fe3bfaead6465332fd9"
            }
          },
          "metadata": {}
        },
        {
          "name": "stderr",
          "text": "Some weights of DebertaV2ForMultipleChoice were not initialized from the model checkpoint at /kaggle/input/deberta-v3-large-hf-weights and are newly initialized: ['pooler.dense.weight', 'classifier.weight', 'pooler.dense.bias', 'classifier.bias']\nYou should probably TRAIN this model on a down-stream task to be able to use it for predictions and inference.\n",
          "output_type": "stream"
        },
        {
          "output_type": "display_data",
          "data": {
            "text/plain": "<IPython.core.display.HTML object>",
            "text/html": "\n    <div>\n      \n      <progress value='8000' max='8000' style='width:300px; height:20px; vertical-align: middle;'></progress>\n      [8000/8000 35:41, Epoch 10/10]\n    </div>\n    <table border=\"1\" class=\"dataframe\">\n  <thead>\n <tr style=\"text-align: left;\">\n      <th>Epoch</th>\n      <th>Training Loss</th>\n      <th>Validation Loss</th>\n    </tr>\n  </thead>\n  <tbody>\n    <tr>\n      <td>1</td>\n      <td>1.613100</td>\n      <td>1.608853</td>\n    </tr>\n    <tr>\n      <td>2</td>\n      <td>1.609800</td>\n      <td>1.608821</td>\n    </tr>\n    <tr>\n      <td>3</td>\n      <td>1.610700</td>\n      <td>1.609304</td>\n    </tr>\n    <tr>\n      <td>4</td>\n      <td>1.604000</td>\n      <td>1.586339</td>\n    </tr>\n    <tr>\n      <td>5</td>\n      <td>1.569600</td>\n      <td>1.525717</td>\n    </tr>\n    <tr>\n      <td>6</td>\n      <td>1.524600</td>\n      <td>1.435965</td>\n    </tr>\n    <tr>\n      <td>7</td>\n      <td>1.333400</td>\n      <td>1.353580</td>\n    </tr>\n    <tr>\n      <td>8</td>\n      <td>1.225600</td>\n      <td>1.298170</td>\n    </tr>\n    <tr>\n      <td>9</td>\n      <td>1.013700</td>\n      <td>1.371726</td>\n    </tr>\n    <tr>\n      <td>10</td>\n      <td>0.861300</td>\n      <td>1.509892</td>\n    </tr>\n  </tbody>\n</table><p>"
          },
          "metadata": {}
        },
        {
          "output_type": "display_data",
          "data": {
            "text/plain": "<IPython.core.display.HTML object>",
            "text/html": ""
          },
          "metadata": {}
        },
        {
          "name": "stdout",
          "text": "\u001b[31m\u001b[1mFold 1: MAP@3 = 0.67333\u001b[0m\n",
          "output_type": "stream"
        },
        {
          "output_type": "display_data",
          "data": {
            "text/plain": "<IPython.core.display.HTML object>",
            "text/html": ""
          },
          "metadata": {}
        },
        {
          "output_type": "display_data",
          "data": {
            "text/plain": "  0%|          | 0/800 [00:00<?, ?ex/s]",
            "application/vnd.jupyter.widget-view+json": {
              "version_major": 2,
              "version_minor": 0,
              "model_id": "147f00228c6d482ca145910d8b195b6e"
            }
          },
          "metadata": {}
        },
        {
          "output_type": "display_data",
          "data": {
            "text/plain": "  0%|          | 0/200 [00:00<?, ?ex/s]",
            "application/vnd.jupyter.widget-view+json": {
              "version_major": 2,
              "version_minor": 0,
              "model_id": "bd447e668fb6433296333273a798a892"
            }
          },
          "metadata": {}
        },
        {
          "name": "stderr",
          "text": "Some weights of DebertaV2ForMultipleChoice were not initialized from the model checkpoint at /kaggle/input/deberta-v3-large-hf-weights and are newly initialized: ['pooler.dense.weight', 'classifier.weight', 'pooler.dense.bias', 'classifier.bias']\nYou should probably TRAIN this model on a down-stream task to be able to use it for predictions and inference.\n",
          "output_type": "stream"
        },
        {
          "output_type": "display_data",
          "data": {
            "text/plain": "<IPython.core.display.HTML object>",
            "text/html": "\n    <div>\n      \n      <progress value='7200' max='8000' style='width:300px; height:20px; vertical-align: middle;'></progress>\n      [7200/8000 31:56 < 03:32, 3.76 it/s, Epoch 9/10]\n    </div>\n    <table border=\"1\" class=\"dataframe\">\n  <thead>\n <tr style=\"text-align: left;\">\n      <th>Epoch</th>\n      <th>Training Loss</th>\n      <th>Validation Loss</th>\n    </tr>\n  </thead>\n  <tbody>\n    <tr>\n      <td>1</td>\n      <td>1.609300</td>\n      <td>1.609239</td>\n    </tr>\n    <tr>\n      <td>2</td>\n      <td>1.610400</td>\n      <td>1.608782</td>\n    </tr>\n    <tr>\n      <td>3</td>\n      <td>1.619500</td>\n      <td>1.605416</td>\n    </tr>\n    <tr>\n      <td>4</td>\n      <td>1.604600</td>\n      <td>1.585162</td>\n    </tr>\n    <tr>\n      <td>5</td>\n      <td>1.554500</td>\n      <td>1.506296</td>\n    </tr>\n    <tr>\n      <td>6</td>\n      <td>1.481800</td>\n      <td>1.421090</td>\n    </tr>\n    <tr>\n      <td>7</td>\n      <td>1.288600</td>\n      <td>1.365332</td>\n    </tr>\n    <tr>\n      <td>8</td>\n      <td>1.169500</td>\n      <td>1.439716</td>\n    </tr>\n    <tr>\n      <td>9</td>\n      <td>0.990500</td>\n      <td>1.578342</td>\n    </tr>\n  </tbody>\n</table><p>"
          },
          "metadata": {}
        },
        {
          "output_type": "display_data",
          "data": {
            "text/plain": "<IPython.core.display.HTML object>",
            "text/html": ""
          },
          "metadata": {}
        },
        {
          "name": "stdout",
          "text": "\u001b[31m\u001b[1mFold 2: MAP@3 = 0.63417\u001b[0m\n",
          "output_type": "stream"
        },
        {
          "output_type": "display_data",
          "data": {
            "text/plain": "<IPython.core.display.HTML object>",
            "text/html": ""
          },
          "metadata": {}
        },
        {
          "output_type": "display_data",
          "data": {
            "text/plain": "  0%|          | 0/800 [00:00<?, ?ex/s]",
            "application/vnd.jupyter.widget-view+json": {
              "version_major": 2,
              "version_minor": 0,
              "model_id": "ab95dd2e03f2402b81e68df9535a5c01"
            }
          },
          "metadata": {}
        },
        {
          "output_type": "display_data",
          "data": {
            "text/plain": "  0%|          | 0/200 [00:00<?, ?ex/s]",
            "application/vnd.jupyter.widget-view+json": {
              "version_major": 2,
              "version_minor": 0,
              "model_id": "333639400d704724bc4880c7e92e5302"
            }
          },
          "metadata": {}
        },
        {
          "name": "stderr",
          "text": "Some weights of DebertaV2ForMultipleChoice were not initialized from the model checkpoint at /kaggle/input/deberta-v3-large-hf-weights and are newly initialized: ['pooler.dense.weight', 'classifier.weight', 'pooler.dense.bias', 'classifier.bias']\nYou should probably TRAIN this model on a down-stream task to be able to use it for predictions and inference.\n",
          "output_type": "stream"
        },
        {
          "output_type": "display_data",
          "data": {
            "text/plain": "<IPython.core.display.HTML object>",
            "text/html": "\n    <div>\n      \n      <progress value='7200' max='8000' style='width:300px; height:20px; vertical-align: middle;'></progress>\n      [7200/8000 31:51 < 03:32, 3.76 it/s, Epoch 9/10]\n    </div>\n    <table border=\"1\" class=\"dataframe\">\n  <thead>\n <tr style=\"text-align: left;\">\n      <th>Epoch</th>\n      <th>Training Loss</th>\n      <th>Validation Loss</th>\n    </tr>\n  </thead>\n  <tbody>\n    <tr>\n      <td>1</td>\n      <td>1.614100</td>\n      <td>1.608989</td>\n    </tr>\n    <tr>\n      <td>2</td>\n      <td>1.610500</td>\n      <td>1.608855</td>\n    </tr>\n    <tr>\n      <td>3</td>\n      <td>1.613400</td>\n      <td>1.599948</td>\n    </tr>\n    <tr>\n      <td>4</td>\n      <td>1.603000</td>\n      <td>1.595540</td>\n    </tr>\n    <tr>\n      <td>5</td>\n      <td>1.555300</td>\n      <td>1.511646</td>\n    </tr>\n    <tr>\n      <td>6</td>\n      <td>1.485800</td>\n      <td>1.292380</td>\n    </tr>\n    <tr>\n      <td>7</td>\n      <td>1.143000</td>\n      <td>1.190665</td>\n    </tr>\n    <tr>\n      <td>8</td>\n      <td>0.952600</td>\n      <td>1.274834</td>\n    </tr>\n    <tr>\n      <td>9</td>\n      <td>0.708400</td>\n      <td>1.466390</td>\n    </tr>\n  </tbody>\n</table><p>"
          },
          "metadata": {}
        },
        {
          "output_type": "display_data",
          "data": {
            "text/plain": "<IPython.core.display.HTML object>",
            "text/html": ""
          },
          "metadata": {}
        },
        {
          "name": "stdout",
          "text": "\u001b[31m\u001b[1mFold 3: MAP@3 = 0.65833\u001b[0m\n",
          "output_type": "stream"
        },
        {
          "output_type": "display_data",
          "data": {
            "text/plain": "<IPython.core.display.HTML object>",
            "text/html": ""
          },
          "metadata": {}
        },
        {
          "output_type": "display_data",
          "data": {
            "text/plain": "  0%|          | 0/800 [00:00<?, ?ex/s]",
            "application/vnd.jupyter.widget-view+json": {
              "version_major": 2,
              "version_minor": 0,
              "model_id": "d47e353ef358474cb3ed4301fa450c01"
            }
          },
          "metadata": {}
        },
        {
          "output_type": "display_data",
          "data": {
            "text/plain": "  0%|          | 0/200 [00:00<?, ?ex/s]",
            "application/vnd.jupyter.widget-view+json": {
              "version_major": 2,
              "version_minor": 0,
              "model_id": "a41bf99465834f15b68df8a4975f3480"
            }
          },
          "metadata": {}
        },
        {
          "name": "stderr",
          "text": "Some weights of DebertaV2ForMultipleChoice were not initialized from the model checkpoint at /kaggle/input/deberta-v3-large-hf-weights and are newly initialized: ['pooler.dense.weight', 'classifier.weight', 'pooler.dense.bias', 'classifier.bias']\nYou should probably TRAIN this model on a down-stream task to be able to use it for predictions and inference.\n",
          "output_type": "stream"
        },
        {
          "output_type": "display_data",
          "data": {
            "text/plain": "<IPython.core.display.HTML object>",
            "text/html": "\n    <div>\n      \n      <progress value='7200' max='8000' style='width:300px; height:20px; vertical-align: middle;'></progress>\n      [7200/8000 32:15 < 03:35, 3.72 it/s, Epoch 9/10]\n    </div>\n    <table border=\"1\" class=\"dataframe\">\n  <thead>\n <tr style=\"text-align: left;\">\n      <th>Epoch</th>\n      <th>Training Loss</th>\n      <th>Validation Loss</th>\n    </tr>\n  </thead>\n  <tbody>\n    <tr>\n      <td>1</td>\n      <td>1.616700</td>\n      <td>1.608765</td>\n    </tr>\n    <tr>\n      <td>2</td>\n      <td>1.615600</td>\n      <td>1.609131</td>\n    </tr>\n    <tr>\n      <td>3</td>\n      <td>1.616000</td>\n      <td>1.602130</td>\n    </tr>\n    <tr>\n      <td>4</td>\n      <td>1.608000</td>\n      <td>1.581030</td>\n    </tr>\n    <tr>\n      <td>5</td>\n      <td>1.584700</td>\n      <td>1.543132</td>\n    </tr>\n    <tr>\n      <td>6</td>\n      <td>1.545800</td>\n      <td>1.432844</td>\n    </tr>\n    <tr>\n      <td>7</td>\n      <td>1.245700</td>\n      <td>1.279293</td>\n    </tr>\n    <tr>\n      <td>8</td>\n      <td>1.100300</td>\n      <td>1.337485</td>\n    </tr>\n    <tr>\n      <td>9</td>\n      <td>0.763700</td>\n      <td>1.591478</td>\n    </tr>\n  </tbody>\n</table><p>"
          },
          "metadata": {}
        },
        {
          "output_type": "display_data",
          "data": {
            "text/plain": "<IPython.core.display.HTML object>",
            "text/html": ""
          },
          "metadata": {}
        },
        {
          "name": "stdout",
          "text": "\u001b[31m\u001b[1mFold 4: MAP@3 = 0.64917\u001b[0m\n",
          "output_type": "stream"
        },
        {
          "output_type": "display_data",
          "data": {
            "text/plain": "<IPython.core.display.HTML object>",
            "text/html": ""
          },
          "metadata": {}
        }
      ]
    },
    {
      "cell_type": "code",
      "source": [
        "# Average cross-validation score\n",
        "cv = np.mean(cv_list)\n",
        "print(f\"{Fore.RED}{Style.BRIGHT}Global MAP@3 = {cv:.5f}{Style.RESET_ALL}\")"
      ],
      "metadata": {
        "_uuid": "c4ce813c-519c-4252-a208-d90554bdf380",
        "_cell_guid": "443294a6-b6df-4f4f-9a8a-1570bb5ede0b",
        "jupyter": {
          "outputs_hidden": false
        },
        "execution": {
          "iopub.status.busy": "2023-10-30T20:51:07.063471Z",
          "iopub.execute_input": "2023-10-30T20:51:07.063855Z",
          "iopub.status.idle": "2023-10-30T20:51:07.069861Z",
          "shell.execute_reply.started": "2023-10-30T20:51:07.063819Z",
          "shell.execute_reply": "2023-10-30T20:51:07.068905Z"
        },
        "trusted": true,
        "id": "hajpPKyWqXWh",
        "outputId": "758cec63-341d-4a10-c5b7-b596c1e0ca59"
      },
      "execution_count": null,
      "outputs": [
        {
          "name": "stdout",
          "text": "\u001b[31m\u001b[1mGlobal MAP@3 = 0.65867\u001b[0m\n",
          "output_type": "stream"
        }
      ]
    },
    {
      "cell_type": "code",
      "source": [
        "final_dfs['A'] = final_dfs[['A1','A2','A3','A0']].mean(axis=1)\n",
        "final_dfs['B'] = final_dfs[['B1','B2','B3','B0']].mean(axis=1)\n",
        "final_dfs['C'] = final_dfs[['C1','C2','C3','C0']].mean(axis=1)\n",
        "final_dfs['D'] = final_dfs[['D1','D2','D3','D0']].mean(axis=1)\n",
        "final_dfs['E'] = final_dfs[['E1','E2','E3','E0']].mean(axis=1)\n",
        "\n",
        "final_dfs[['A', 'B', 'C', 'D', 'E']].head()"
      ],
      "metadata": {
        "_uuid": "1db6dbd7-d2ad-43a3-bb23-f7d72db376c7",
        "_cell_guid": "c758fa82-bd44-4228-9c86-80e73a5abae1",
        "jupyter": {
          "outputs_hidden": false
        },
        "execution": {
          "iopub.status.busy": "2023-10-30T20:51:07.071448Z",
          "iopub.execute_input": "2023-10-30T20:51:07.071796Z",
          "iopub.status.idle": "2023-10-30T20:51:07.117641Z",
          "shell.execute_reply.started": "2023-10-30T20:51:07.071770Z",
          "shell.execute_reply": "2023-10-30T20:51:07.116609Z"
        },
        "trusted": true,
        "id": "5vUxqSxFqXWi",
        "outputId": "c41eaf79-0ba6-40b1-df34-036d6046f982"
      },
      "execution_count": null,
      "outputs": [
        {
          "execution_count": 13,
          "output_type": "execute_result",
          "data": {
            "text/plain": "          A         B         C         D         E\n0 -2.553663 -1.515964 -2.539781  0.134061 -2.477152\n1 -2.774576 -2.955051 -3.052081 -3.093159 -3.282637\n2  0.600896 -2.402701 -0.271390 -3.179917 -1.798219\n3 -2.107654 -2.341429 -1.240922 -2.639822 -3.033341\n4 -0.814792 -1.063014 -1.505676  0.037207 -1.512424",
            "text/html": "<div>\n<style scoped>\n    .dataframe tbody tr th:only-of-type {\n        vertical-align: middle;\n    }\n\n    .dataframe tbody tr th {\n        vertical-align: top;\n    }\n\n    .dataframe thead th {\n        text-align: right;\n    }\n</style>\n<table border=\"1\" class=\"dataframe\">\n  <thead>\n    <tr style=\"text-align: right;\">\n      <th></th>\n      <th>A</th>\n      <th>B</th>\n      <th>C</th>\n      <th>D</th>\n      <th>E</th>\n    </tr>\n  </thead>\n  <tbody>\n    <tr>\n      <th>0</th>\n      <td>-2.553663</td>\n      <td>-1.515964</td>\n      <td>-2.539781</td>\n      <td>0.134061</td>\n      <td>-2.477152</td>\n    </tr>\n    <tr>\n      <th>1</th>\n      <td>-2.774576</td>\n      <td>-2.955051</td>\n      <td>-3.052081</td>\n      <td>-3.093159</td>\n      <td>-3.282637</td>\n    </tr>\n    <tr>\n      <th>2</th>\n      <td>0.600896</td>\n      <td>-2.402701</td>\n      <td>-0.271390</td>\n      <td>-3.179917</td>\n      <td>-1.798219</td>\n    </tr>\n    <tr>\n      <th>3</th>\n      <td>-2.107654</td>\n      <td>-2.341429</td>\n      <td>-1.240922</td>\n      <td>-2.639822</td>\n      <td>-3.033341</td>\n    </tr>\n    <tr>\n      <th>4</th>\n      <td>-0.814792</td>\n      <td>-1.063014</td>\n      <td>-1.505676</td>\n      <td>0.037207</td>\n      <td>-1.512424</td>\n    </tr>\n  </tbody>\n</table>\n</div>"
          },
          "metadata": {}
        }
      ]
    },
    {
      "cell_type": "markdown",
      "source": [
        "## Prediction"
      ],
      "metadata": {
        "_uuid": "df8ca54c-d94d-45e5-bb0a-be59c8662d28",
        "_cell_guid": "99417e34-b28a-450a-8547-27c328209e51",
        "trusted": true,
        "id": "LSJ1gVJSqXWi"
      }
    },
    {
      "cell_type": "code",
      "source": [
        "predictions_as_ids = np.argsort(-test_predictions, 1)\n",
        "\n",
        "\n",
        "predictions_as_answer_letters = np.array(list('ABCDE'))[predictions_as_ids]\n",
        "\n",
        "\n",
        "test_df['prediction'] = [' '.join(row) for row in predictions_as_answer_letters[:, :3]]"
      ],
      "metadata": {
        "_uuid": "893a9c0e-5091-4bad-83ba-b656251a16f9",
        "_cell_guid": "5b310b44-73f7-430d-9428-3a35312bab5b",
        "jupyter": {
          "outputs_hidden": false
        },
        "execution": {
          "iopub.status.busy": "2023-10-30T20:51:07.119559Z",
          "iopub.execute_input": "2023-10-30T20:51:07.120090Z",
          "iopub.status.idle": "2023-10-30T20:51:07.127645Z",
          "shell.execute_reply.started": "2023-10-30T20:51:07.120050Z",
          "shell.execute_reply": "2023-10-30T20:51:07.126488Z"
        },
        "trusted": true,
        "id": "gWGWoXRAqXWi"
      },
      "execution_count": null,
      "outputs": []
    },
    {
      "cell_type": "code",
      "source": [
        "submission = test_df[['id', 'prediction']]\n",
        "submission.to_csv('LLM_Output.csv', index=False)\n",
        "\n",
        "display(pd.read_csv('LLM_Output.csv').head())\n",
        "display(pd.read_csv('LLM_Output.csv').tail())"
      ],
      "metadata": {
        "_uuid": "132673b8-f99c-4e30-8e4f-882eedbbe7f7",
        "_cell_guid": "349d3919-6307-4c6c-8ffb-f8e6f3ece6f0",
        "jupyter": {
          "outputs_hidden": false
        },
        "execution": {
          "iopub.status.busy": "2023-10-30T20:51:07.131049Z",
          "iopub.execute_input": "2023-10-30T20:51:07.131334Z",
          "iopub.status.idle": "2023-10-30T20:51:07.159829Z",
          "shell.execute_reply.started": "2023-10-30T20:51:07.131308Z",
          "shell.execute_reply": "2023-10-30T20:51:07.159011Z"
        },
        "trusted": true,
        "id": "7eGscTbwqXWi",
        "outputId": "5db17223-cdea-4545-d028-66beecbe95a1"
      },
      "execution_count": null,
      "outputs": [
        {
          "output_type": "display_data",
          "data": {
            "text/plain": "   id prediction\n0   0      D B E\n1   1      A D C\n2   2      A C E\n3   3      C A B\n4   4      D A B",
            "text/html": "<div>\n<style scoped>\n    .dataframe tbody tr th:only-of-type {\n        vertical-align: middle;\n    }\n\n    .dataframe tbody tr th {\n        vertical-align: top;\n    }\n\n    .dataframe thead th {\n        text-align: right;\n    }\n</style>\n<table border=\"1\" class=\"dataframe\">\n  <thead>\n    <tr style=\"text-align: right;\">\n      <th></th>\n      <th>id</th>\n      <th>prediction</th>\n    </tr>\n  </thead>\n  <tbody>\n    <tr>\n      <th>0</th>\n      <td>0</td>\n      <td>D B E</td>\n    </tr>\n    <tr>\n      <th>1</th>\n      <td>1</td>\n      <td>A D C</td>\n    </tr>\n    <tr>\n      <th>2</th>\n      <td>2</td>\n      <td>A C E</td>\n    </tr>\n    <tr>\n      <th>3</th>\n      <td>3</td>\n      <td>C A B</td>\n    </tr>\n    <tr>\n      <th>4</th>\n      <td>4</td>\n      <td>D A B</td>\n    </tr>\n  </tbody>\n</table>\n</div>"
          },
          "metadata": {}
        },
        {
          "output_type": "display_data",
          "data": {
            "text/plain": "      id prediction\n195  195      C A E\n196  196      B C A\n197  197      B A D\n198  198      D C A\n199  199      D A C",
            "text/html": "<div>\n<style scoped>\n    .dataframe tbody tr th:only-of-type {\n        vertical-align: middle;\n    }\n\n    .dataframe tbody tr th {\n        vertical-align: top;\n    }\n\n    .dataframe thead th {\n        text-align: right;\n    }\n</style>\n<table border=\"1\" class=\"dataframe\">\n  <thead>\n    <tr style=\"text-align: right;\">\n      <th></th>\n      <th>id</th>\n      <th>prediction</th>\n    </tr>\n  </thead>\n  <tbody>\n    <tr>\n      <th>195</th>\n      <td>195</td>\n      <td>C A E</td>\n    </tr>\n    <tr>\n      <th>196</th>\n      <td>196</td>\n      <td>B C A</td>\n    </tr>\n    <tr>\n      <th>197</th>\n      <td>197</td>\n      <td>B A D</td>\n    </tr>\n    <tr>\n      <th>198</th>\n      <td>198</td>\n      <td>D C A</td>\n    </tr>\n    <tr>\n      <th>199</th>\n      <td>199</td>\n      <td>D A C</td>\n    </tr>\n  </tbody>\n</table>\n</div>"
          },
          "metadata": {}
        }
      ]
    }
  ]
}